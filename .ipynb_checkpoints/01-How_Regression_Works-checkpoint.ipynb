{
 "cells": [
  {
   "cell_type": "markdown",
   "id": "e571ac65",
   "metadata": {},
   "source": [
    "# How regression works\n",
    "In this lab, you will try a linear function to predict the target given an input."
   ]
  },
  {
   "cell_type": "code",
   "execution_count": 1,
   "id": "1d780bf5",
   "metadata": {},
   "outputs": [],
   "source": [
    "import numpy as np\n",
    "import matplotlib.pyplot as plt\n",
    "import"
   ]
  },
  {
   "cell_type": "code",
   "execution_count": 2,
   "id": "80161f20",
   "metadata": {},
   "outputs": [
    {
     "name": "stdout",
     "output_type": "stream",
     "text": [
      "7\n",
      "(x^(1), y^(1)) = (1, 180)\n"
     ]
    }
   ],
   "source": [
    "x_train = np.array([1, 1.5, 2, 2.5, 3, 3.5, 4])                # input variable (house size in 1000s of square feet)\n",
    "y_train = np.array([120., 180., 170., 210., 250., 260., 270.]) # target (in 1000s of dollars)\n",
    "\n",
    "print(len(x_train)) # the number of training example\n",
    "\n",
    "i = 1  # change this to any i to see the ith point\n",
    "point = \"(x^(%d), y^(%d)) = (%d, %d)\" % (i, i, x_train[i] , y_train[i])\n",
    "print(point)"
   ]
  },
  {
   "cell_type": "markdown",
   "id": "16eb577a",
   "metadata": {},
   "source": [
    "# Plot the data\n",
    "Let's plot the points to have a visualization of data."
   ]
  },
  {
   "cell_type": "code",
   "execution_count": 3,
   "id": "e214a2df",
   "metadata": {
    "scrolled": true
   },
   "outputs": [
    {
     "data": {
      "image/png": "[encoded data removed]",
      "text/plain": [
       "<Figure size 432x288 with 1 Axes>"
      ]
     },
     "metadata": {
      "needs_background": "light"
     },
     "output_type": "display_data"
    }
   ],
   "source": [
    "plt.scatter(x_train, y_train, marker=\"x\", c=\"b\")  # plot the data points\n",
    "plt.title(\"Housing prices\")                       # set the title\n",
    "plt.ylabel(\"Price in 1000s of $\")                 # set the y axis label\n",
    "plt.xlabel(\"House size (in 1000s of sqft)\")       # set the x axis label\n",
    "plt.grid()                                        # show grid lines\n",
    "plt.show()"
   ]
  },
  {
   "cell_type": "markdown",
   "id": "d16eca2b",
   "metadata": {},
   "source": [
    "# Model function\n",
    "Create a function that maps from `x` to `y`.\n",
    "\n",
    "$ f(x) = ax + b$"
   ]
  },
  {
   "cell_type": "code",
   "execution_count": 4,
   "id": "8b4bb704",
   "metadata": {},
   "outputs": [
    {
     "name": "stdout",
     "output_type": "stream",
     "text": [
      "y = 180.0  and  f = 250.0\n"
     ]
    }
   ],
   "source": [
    "# Let's try some value for 'a' and 'b': f(x) = ax + b\n",
    "a = 100\n",
    "b = 100\n",
    "\n",
    "# calculate the value of f(x) for any input data\n",
    "i = 1\n",
    "f = a * x_train[i] + b\n",
    "print(\"y =\", y_train[i], \" and \", \"f =\", f)"
   ]
  },
  {
   "cell_type": "markdown",
   "id": "1ef66329",
   "metadata": {},
   "source": [
    "Alternatively, we can do it for all inputs."
   ]
  },
  {
   "cell_type": "code",
   "execution_count": 5,
   "id": "8215efe8",
   "metadata": {},
   "outputs": [],
   "source": [
    "a = 100\n",
    "b = 100\n",
    "prediction = a * x_train + b"
   ]
  },
  {
   "cell_type": "markdown",
   "id": "eb91d85c",
   "metadata": {},
   "source": [
    "Now, let's call the function and plot the line on data points."
   ]
  },
  {
   "cell_type": "code",
   "execution_count": 6,
   "id": "ce25ed6a",
   "metadata": {},
   "outputs": [
    {
     "data": {
      "image/png": "[encoded data removed]",
      "text/plain": [
       "<Figure size 432x288 with 1 Axes>"
      ]
     },
     "metadata": {
      "needs_background": "light"
     },
     "output_type": "display_data"
    }
   ],
   "source": [
    "plt.plot(x_train, prediction, c=\"r\", label=\"Our prediction\")          # plot the prediction model\n",
    "plt.scatter(x_train, y_train, marker=\"x\", c=\"b\", label=\"Actual data\") # plot the data points\n",
    "\n",
    "plt.ylabel(\"Price in 1000s of $\")            # set the y axis label\n",
    "plt.xlabel(\"House size (in 1000s of sqft)\")  # set the x axis label\n",
    "plt.grid()                                   # show grid lines\n",
    "plt.legend()                                 # shoe the legend\n",
    "plt.show()"
   ]
  },
  {
   "cell_type": "markdown",
   "id": "e80acd0a",
   "metadata": {},
   "source": [
    "As you see on the above plot, the given values for `a` and `b` do not result in a line that fits our data. You can try other values and see the results.\n",
    "# Predict a house price using the model\n",
    "Now, let's try the model to predict a house price for a given house with 1200 sqft."
   ]
  },
  {
   "cell_type": "code",
   "execution_count": 7,
   "id": "ce69aade",
   "metadata": {},
   "outputs": [
    {
     "name": "stdout",
     "output_type": "stream",
     "text": [
      "The price of 1200 sqft house is 220.0 thousand dollars.\n"
     ]
    }
   ],
   "source": [
    "# Use the best value for a and b\n",
    "a = 100\n",
    "b = 100\n",
    "price = a * 1.2 + b\n",
    "\n",
    "print(\"The price of 1200 sqft house is\", price, \"thousand dollars.\")"
   ]
  }
 ],
 "metadata": {
  "kernelspec": {
   "display_name": "Python 3",
   "language": "python",
   "name": "python3"
  },
  "language_info": {
   "codemirror_mode": {
    "name": "ipython",
    "version": 3
   },
   "file_extension": ".py",
   "mimetype": "text/x-python",
   "name": "python",
   "nbconvert_exporter": "python",
   "pygments_lexer": "ipython3",
   "version": "3.8.8"
  }
 },
 "nbformat": 4,
 "nbformat_minor": 5
}
