{
 "cells": [
  {
   "cell_type": "markdown",
   "id": "4a83b6db",
   "metadata": {},
   "source": [
    "# Linear Regression with scikit-learn\n",
    "The package [scikit-learn](https://scikit-learn.org/stable/) is a widely used Python library for machine learning, built on top of NumPy and some other packages. It provides the means for preprocessing data, reducing dimensionality, implementing regression, classifying, clustering, and more. Like NumPy, scikit-learn is also open-source.\n",
    "If scikit-learn is not installed, you can use the folloing code to install it.\n",
    "```python\n",
    "pip install scikit-learn\n",
    "```"
   ]
  },
  {
   "cell_type": "code",
   "execution_count": 1,
   "id": "b65a3a0e",
   "metadata": {},
   "outputs": [],
   "source": [
    "import numpy as np\n",
    "from sklearn.linear_model import LinearRegression\n",
    "from sklearn.model_selection import train_test_split\n",
    "from sklearn.datasets import make_regression\n",
    "import matplotlib.pyplot as plt"
   ]
  },
  {
   "cell_type": "code",
   "execution_count": 2,
   "id": "589aa37d",
   "metadata": {},
   "outputs": [],
   "source": [
    "x = np.array([1000,1500,1200,1800,2500,800,1600]).reshape((-1,1))\n",
    "y = np.array([100,290,180,180,360,120,240])"
   ]
  },
  {
   "cell_type": "markdown",
   "id": "a44573e8",
   "metadata": {},
   "source": [
    "You should call `.reshape()` on x because this array must be two-dimensional, or more precisely, it must have one column and as many rows as necessary. That’s exactly what the argument (-1, 1) of `.reshape()` specifies.\n",
    "The next step is to create a linear regression model and fit it using the existing data. Create an instance of the class `LinearRegression`, which will represent the regression model. With `.fit()`, you calculate the optimal values of the weights $b$ and $w$, using the existing input and output, x and y, as the arguments. In other words, `.fit()` fits the model. "
   ]
  },
  {
   "cell_type": "code",
   "execution_count": 3,
   "id": "7d6f8f8d",
   "metadata": {},
   "outputs": [],
   "source": [
    "model = LinearRegression().fit(x,y)"
   ]
  },
  {
   "cell_type": "markdown",
   "id": "91af6315",
   "metadata": {},
   "source": [
    "Once you have your model fitted, you can get the results to check whether the model works satisfactorily and to interpret it. You can obtain the coefficient of determination, 𝑅², with `.score()` called on model.The attributes of model are `.intercept_`, which represents the coefficient $b$, and `.coef_`, which represents $w$. The result for `.intercept_` is a scalar, while `.coef_` is an array."
   ]
  },
  {
   "cell_type": "code",
   "execution_count": 4,
   "id": "a3bc9175",
   "metadata": {},
   "outputs": [
    {
     "name": "stdout",
     "output_type": "stream",
     "text": [
      "R2: 0.7351\n",
      "Intercpt: 1.2296\n",
      "slope: 0.1405\n"
     ]
    }
   ],
   "source": [
    "r_sq = model.score(x,y)  # coefficient of determination\n",
    "\n",
    "print('R2:', '%.4f' %r_sq)\n",
    "\n",
    "b = model.intercept_\n",
    "w = model.coef_\n",
    "\n",
    "print('Intercpt: %.4f' %b)\n",
    "print('slope: %.4f' %w)"
   ]
  },
  {
   "cell_type": "markdown",
   "id": "31b2c86a",
   "metadata": {},
   "source": [
    "Once you have a satisfactory model, then you can use it for predictions with either existing or new data. To obtain the predicted response, use `.predict()`."
   ]
  },
  {
   "cell_type": "code",
   "execution_count": 5,
   "id": "2142cb21",
   "metadata": {},
   "outputs": [
    {
     "name": "stdout",
     "output_type": "stream",
     "text": [
      "predicted response:\n",
      " [141.74814815 212.00740741 169.85185185 254.16296296 352.52592593\n",
      " 113.64444444 226.05925926]\n"
     ]
    }
   ],
   "source": [
    "y_pred = model.predict(x)\n",
    "print('predicted response:\\n', y_pred)"
   ]
  },
  {
   "cell_type": "markdown",
   "id": "07aee74e",
   "metadata": {},
   "source": [
    "Use the following code to draw data points and fitted line when there is only one independet varible."
   ]
  },
  {
   "cell_type": "code",
   "execution_count": 6,
   "id": "88490021",
   "metadata": {},
   "outputs": [
    {
     "data": {
      "image/png": "[encoded data removed]",
      "text/plain": [
       "<Figure size 432x288 with 1 Axes>"
      ]
     },
     "metadata": {
      "needs_background": "light"
     },
     "output_type": "display_data"
    }
   ],
   "source": [
    "# If there is only one feature, you can use the following code to plot the data\n",
    "plt.scatter(x,y, marker=\"x\", c=\"b\", label=\"Actual data\")\n",
    "plt.plot(x,y_pred, c=\"r\", label=\"Our prediction\")\n",
    "\n",
    "plt.ylabel(\"Price (y)\")\n",
    "plt.xlabel(\"Size (x)\")\n",
    "plt.grid()\n",
    "plt.legend()\n",
    "plt.show()"
   ]
  },
  {
   "cell_type": "markdown",
   "id": "c25e9e11",
   "metadata": {},
   "source": [
    "## A more complicated example\n",
    "\n",
    "With the help of `make_regression` function, we can generate a random regression dataset with a specified number of samples, features, and noise."
   ]
  },
  {
   "cell_type": "code",
   "execution_count": 7,
   "id": "b044f66c",
   "metadata": {},
   "outputs": [],
   "source": [
    "X, y = make_regression(n_samples=100, n_features=5, noise=40, random_state=14)"
   ]
  },
  {
   "cell_type": "code",
   "execution_count": 8,
   "id": "bd3b8561",
   "metadata": {},
   "outputs": [],
   "source": [
    "# splitting X and y into training and testing sets\n",
    "X_train, X_test, y_train, y_test = train_test_split(X, y, test_size = .25)"
   ]
  },
  {
   "cell_type": "code",
   "execution_count": 9,
   "id": "9814de21",
   "metadata": {},
   "outputs": [
    {
     "data": {
      "text/html": [
       "<style>#sk-container-id-1 {color: black;background-color: white;}#sk-container-id-1 pre{padding: 0;}#sk-container-id-1 div.sk-toggleable {background-color: white;}#sk-container-id-1 label.sk-toggleable__label {cursor: pointer;display: block;width: 100%;margin-bottom: 0;padding: 0.3em;box-sizing: border-box;text-align: center;}#sk-container-id-1 label.sk-toggleable__label-arrow:before {content: \"▸\";float: left;margin-right: 0.25em;color: #696969;}#sk-container-id-1 label.sk-toggleable__label-arrow:hover:before {color: black;}#sk-container-id-1 div.sk-estimator:hover label.sk-toggleable__label-arrow:before {color: black;}#sk-container-id-1 div.sk-toggleable__content {max-height: 0;max-width: 0;overflow: hidden;text-align: left;background-color: #f0f8ff;}#sk-container-id-1 div.sk-toggleable__content pre {margin: 0.2em;color: black;border-radius: 0.25em;background-color: #f0f8ff;}#sk-container-id-1 input.sk-toggleable__control:checked~div.sk-toggleable__content {max-height: 200px;max-width: 100%;overflow: auto;}#sk-container-id-1 input.sk-toggleable__control:checked~label.sk-toggleable__label-arrow:before {content: \"▾\";}#sk-container-id-1 div.sk-estimator input.sk-toggleable__control:checked~label.sk-toggleable__label {background-color: #d4ebff;}#sk-container-id-1 div.sk-label input.sk-toggleable__control:checked~label.sk-toggleable__label {background-color: #d4ebff;}#sk-container-id-1 input.sk-hidden--visually {border: 0;clip: rect(1px 1px 1px 1px);clip: rect(1px, 1px, 1px, 1px);height: 1px;margin: -1px;overflow: hidden;padding: 0;position: absolute;width: 1px;}#sk-container-id-1 div.sk-estimator {font-family: monospace;background-color: #f0f8ff;border: 1px dotted black;border-radius: 0.25em;box-sizing: border-box;margin-bottom: 0.5em;}#sk-container-id-1 div.sk-estimator:hover {background-color: #d4ebff;}#sk-container-id-1 div.sk-parallel-item::after {content: \"\";width: 100%;border-bottom: 1px solid gray;flex-grow: 1;}#sk-container-id-1 div.sk-label:hover label.sk-toggleable__label {background-color: #d4ebff;}#sk-container-id-1 div.sk-serial::before {content: \"\";position: absolute;border-left: 1px solid gray;box-sizing: border-box;top: 0;bottom: 0;left: 50%;z-index: 0;}#sk-container-id-1 div.sk-serial {display: flex;flex-direction: column;align-items: center;background-color: white;padding-right: 0.2em;padding-left: 0.2em;position: relative;}#sk-container-id-1 div.sk-item {position: relative;z-index: 1;}#sk-container-id-1 div.sk-parallel {display: flex;align-items: stretch;justify-content: center;background-color: white;position: relative;}#sk-container-id-1 div.sk-item::before, #sk-container-id-1 div.sk-parallel-item::before {content: \"\";position: absolute;border-left: 1px solid gray;box-sizing: border-box;top: 0;bottom: 0;left: 50%;z-index: -1;}#sk-container-id-1 div.sk-parallel-item {display: flex;flex-direction: column;z-index: 1;position: relative;background-color: white;}#sk-container-id-1 div.sk-parallel-item:first-child::after {align-self: flex-end;width: 50%;}#sk-container-id-1 div.sk-parallel-item:last-child::after {align-self: flex-start;width: 50%;}#sk-container-id-1 div.sk-parallel-item:only-child::after {width: 0;}#sk-container-id-1 div.sk-dashed-wrapped {border: 1px dashed gray;margin: 0 0.4em 0.5em 0.4em;box-sizing: border-box;padding-bottom: 0.4em;background-color: white;}#sk-container-id-1 div.sk-label label {font-family: monospace;font-weight: bold;display: inline-block;line-height: 1.2em;}#sk-container-id-1 div.sk-label-container {text-align: center;}#sk-container-id-1 div.sk-container {/* jupyter's `normalize.less` sets `[hidden] { display: none; }` but bootstrap.min.css set `[hidden] { display: none !important; }` so we also need the `!important` here to be able to override the default hidden behavior on the sphinx rendered scikit-learn.org. See: https://github.com/scikit-learn/scikit-learn/issues/21755 */display: inline-block !important;position: relative;}#sk-container-id-1 div.sk-text-repr-fallback {display: none;}</style><div id=\"sk-container-id-1\" class=\"sk-top-container\"><div class=\"sk-text-repr-fallback\"><pre>LinearRegression()</pre><b>In a Jupyter environment, please rerun this cell to show the HTML representation or trust the notebook. <br />On GitHub, the HTML representation is unable to render, please try loading this page with nbviewer.org.</b></div><div class=\"sk-container\" hidden><div class=\"sk-item\"><div class=\"sk-estimator sk-toggleable\"><input class=\"sk-toggleable__control sk-hidden--visually\" id=\"sk-estimator-id-1\" type=\"checkbox\" checked><label for=\"sk-estimator-id-1\" class=\"sk-toggleable__label sk-toggleable__label-arrow\">LinearRegression</label><div class=\"sk-toggleable__content\"><pre>LinearRegression()</pre></div></div></div></div></div>"
      ],
      "text/plain": [
       "LinearRegression()"
      ]
     },
     "execution_count": 9,
     "metadata": {},
     "output_type": "execute_result"
    }
   ],
   "source": [
    "reg = LinearRegression()  # create linear regression object\n",
    "reg.fit(X_train, y_train) # train the model using the training sets"
   ]
  },
  {
   "cell_type": "code",
   "execution_count": 10,
   "id": "9671d5fe",
   "metadata": {},
   "outputs": [
    {
     "name": "stdout",
     "output_type": "stream",
     "text": [
      "[84.71245434 32.03054296 41.13695465 78.7128094  31.85010648]\n",
      "-3.441734661518524\n"
     ]
    }
   ],
   "source": [
    "# regression coefficients\n",
    "print(reg.coef_)\n",
    "print(reg.intercept_)"
   ]
  },
  {
   "cell_type": "code",
   "execution_count": 11,
   "id": "a3b43e1c",
   "metadata": {},
   "outputs": [
    {
     "name": "stdout",
     "output_type": "stream",
     "text": [
      "R2 = 0.9191\n"
     ]
    }
   ],
   "source": [
    "print('R2 =', '%.4f' %reg.score(X_test, y_test)) # Coeficient of determination"
   ]
  },
  {
   "cell_type": "markdown",
   "id": "92d2c38a",
   "metadata": {},
   "source": [
    "### Residual plots"
   ]
  },
  {
   "cell_type": "code",
   "execution_count": 12,
   "id": "4490b7f2",
   "metadata": {},
   "outputs": [
    {
     "data": {
      "image/png": "[encoded data removed]",
      "text/plain": [
       "<Figure size 864x288 with 2 Axes>"
      ]
     },
     "metadata": {
      "needs_background": "light"
     },
     "output_type": "display_data"
    }
   ],
   "source": [
    "pred_train = reg.predict(X_train)\n",
    "res_train = y_train - pred_train\n",
    "min_pred_train = min(reg.predict(X_train))\n",
    "max_pred_train = max(reg.predict(X_train))\n",
    "\n",
    "pred_test = reg.predict(X_test)\n",
    "res_test = y_test - pred_test\n",
    "min_pred_test = min(reg.predict(X_test))\n",
    "max_pred_test = max(reg.predict(X_test))\n",
    "\n",
    "plt.figure(figsize=(12,4))\n",
    "\n",
    "plt.subplot(1,2,1)\n",
    "plt.scatter(pred_train, res_train, c='b', s=15)\n",
    "plt.hlines(y = 0, xmin = min_pred_train, xmax = max_pred_train, linewidth = 2, color='k')\n",
    "plt.title('Train data', size=14)\n",
    "\n",
    "plt.subplot(1,2,2)\n",
    "plt.scatter(pred_test, res_test, c='g', s=15)\n",
    "plt.hlines(y = 0, xmin = min_pred_test, xmax = max_pred_test, linewidth = 2, color='k')\n",
    "plt.title('Test data', size=14)\n",
    "\n",
    "plt.suptitle('Residual plot', fontsize=16, weight='bold')\n",
    "plt.show()"
   ]
  },
  {
   "cell_type": "markdown",
   "id": "97908974",
   "metadata": {},
   "source": [
    "The resdual plots look random."
   ]
  }
 ],
 "metadata": {
  "kernelspec": {
   "display_name": "Python 3",
   "language": "python",
   "name": "python3"
  },
  "language_info": {
   "codemirror_mode": {
    "name": "ipython",
    "version": 3
   },
   "file_extension": ".py",
   "mimetype": "text/x-python",
   "name": "python",
   "nbconvert_exporter": "python",
   "pygments_lexer": "ipython3",
   "version": "3.8.8"
  }
 },
 "nbformat": 4,
 "nbformat_minor": 5
}
