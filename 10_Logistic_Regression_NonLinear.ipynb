{
 "cells": [
  {
   "cell_type": "code",
   "execution_count": 1,
   "id": "3148cd3c",
   "metadata": {},
   "outputs": [],
   "source": [
    "import numpy as np\n",
    "import pandas as pd\n",
    "import random\n",
    "import math\n",
    "import matplotlib.pyplot as plt"
   ]
  },
  {
   "cell_type": "code",
   "execution_count": 45,
   "id": "d450188a",
   "metadata": {},
   "outputs": [],
   "source": [
    "# generate random data for classification\n",
    "r = 2          # radius\n",
    "c1, c2 = 0, 0  # coordinates of the center\n",
    "\n",
    "n0 = 40  # number of samples generated for class negative\n",
    "n1 = 40  # number of samples generated for class positive\n",
    "y = np.zeros(n0)\n",
    "y = np.append(y, np.ones(n1))\n",
    "\n",
    "x1, x2 = [], [] # initialize x\n",
    "\n",
    "for i in range(n0):\n",
    "    a = 2 * math.pi * random.random()   # random angular position\n",
    "    d = r * math.sqrt(random.random())  # random distance from the center\n",
    "    x1p = c1 + (d + np.random.randn()) * math.cos(a)\n",
    "    x2p = c2 + (d + np.random.randn()) * math.sin(a)\n",
    "    x1.append(x1p)\n",
    "    x2.append(x2p)\n",
    "\n",
    "for i in range(n1):\n",
    "    a = 2 * math.pi * random.random()    # random angular position\n",
    "    d = 2*r * math.sqrt(random.random()) # random distance from the center\n",
    "    x1p = c1  + (d + r) * math.cos(a)\n",
    "    x2p = c2  + (d + r) * math.sin(a)\n",
    "    x1.append(x1p)\n",
    "    x2.append(x2p)\n",
    "\n",
    "x1 = np.reshape(x1,(-1,1))\n",
    "x2 = np.reshape(x2,(-1,1))\n",
    "\n",
    "x = np.concatenate((x1,x2),axis=1)\n",
    "y = np.reshape(y,(-1,1))\n",
    "\n",
    "mydata = np.concatenate((x,y), axis=1)"
   ]
  },
  {
   "cell_type": "code",
   "execution_count": 46,
   "id": "1dea25e7",
   "metadata": {},
   "outputs": [
    {
     "data": {
      "text/html": [
       "<div>\n",
       "<style scoped>\n",
       "    .dataframe tbody tr th:only-of-type {\n",
       "        vertical-align: middle;\n",
       "    }\n",
       "\n",
       "    .dataframe tbody tr th {\n",
       "        vertical-align: top;\n",
       "    }\n",
       "\n",
       "    .dataframe thead th {\n",
       "        text-align: right;\n",
       "    }\n",
       "</style>\n",
       "<table border=\"1\" class=\"dataframe\">\n",
       "  <thead>\n",
       "    <tr style=\"text-align: right;\">\n",
       "      <th></th>\n",
       "      <th>feature 1</th>\n",
       "      <th>feature 2</th>\n",
       "      <th>result</th>\n",
       "    </tr>\n",
       "  </thead>\n",
       "  <tbody>\n",
       "    <tr>\n",
       "      <th>0</th>\n",
       "      <td>-2.134346</td>\n",
       "      <td>-0.725003</td>\n",
       "      <td>0.0</td>\n",
       "    </tr>\n",
       "    <tr>\n",
       "      <th>1</th>\n",
       "      <td>-0.575702</td>\n",
       "      <td>0.477756</td>\n",
       "      <td>0.0</td>\n",
       "    </tr>\n",
       "    <tr>\n",
       "      <th>2</th>\n",
       "      <td>3.658566</td>\n",
       "      <td>0.018386</td>\n",
       "      <td>0.0</td>\n",
       "    </tr>\n",
       "    <tr>\n",
       "      <th>3</th>\n",
       "      <td>0.841476</td>\n",
       "      <td>-1.093855</td>\n",
       "      <td>0.0</td>\n",
       "    </tr>\n",
       "    <tr>\n",
       "      <th>4</th>\n",
       "      <td>0.604345</td>\n",
       "      <td>-0.444258</td>\n",
       "      <td>0.0</td>\n",
       "    </tr>\n",
       "    <tr>\n",
       "      <th>...</th>\n",
       "      <td>...</td>\n",
       "      <td>...</td>\n",
       "      <td>...</td>\n",
       "    </tr>\n",
       "    <tr>\n",
       "      <th>75</th>\n",
       "      <td>-4.028272</td>\n",
       "      <td>3.747731</td>\n",
       "      <td>1.0</td>\n",
       "    </tr>\n",
       "    <tr>\n",
       "      <th>76</th>\n",
       "      <td>0.237394</td>\n",
       "      <td>-4.320108</td>\n",
       "      <td>1.0</td>\n",
       "    </tr>\n",
       "    <tr>\n",
       "      <th>77</th>\n",
       "      <td>4.037270</td>\n",
       "      <td>1.110944</td>\n",
       "      <td>1.0</td>\n",
       "    </tr>\n",
       "    <tr>\n",
       "      <th>78</th>\n",
       "      <td>1.165234</td>\n",
       "      <td>-5.557946</td>\n",
       "      <td>1.0</td>\n",
       "    </tr>\n",
       "    <tr>\n",
       "      <th>79</th>\n",
       "      <td>3.060706</td>\n",
       "      <td>1.047821</td>\n",
       "      <td>1.0</td>\n",
       "    </tr>\n",
       "  </tbody>\n",
       "</table>\n",
       "<p>80 rows × 3 columns</p>\n",
       "</div>"
      ],
      "text/plain": [
       "    feature 1  feature 2  result\n",
       "0   -2.134346  -0.725003     0.0\n",
       "1   -0.575702   0.477756     0.0\n",
       "2    3.658566   0.018386     0.0\n",
       "3    0.841476  -1.093855     0.0\n",
       "4    0.604345  -0.444258     0.0\n",
       "..        ...        ...     ...\n",
       "75  -4.028272   3.747731     1.0\n",
       "76   0.237394  -4.320108     1.0\n",
       "77   4.037270   1.110944     1.0\n",
       "78   1.165234  -5.557946     1.0\n",
       "79   3.060706   1.047821     1.0\n",
       "\n",
       "[80 rows x 3 columns]"
      ]
     },
     "execution_count": 46,
     "metadata": {},
     "output_type": "execute_result"
    }
   ],
   "source": [
    "# convert an array to dataframe\n",
    "df = pd.DataFrame(mydata, columns=['feature 1', 'feature 2', 'result'])\n",
    "df"
   ]
  },
  {
   "cell_type": "code",
   "execution_count": 47,
   "id": "9a29cea2",
   "metadata": {},
   "outputs": [],
   "source": [
    "# get positive and negative samples for plotting\n",
    "neg = df['result'] == 0\n",
    "pos = df['result'] == 1"
   ]
  },
  {
   "cell_type": "code",
   "execution_count": 48,
   "id": "41d804c3",
   "metadata": {},
   "outputs": [
    {
     "data": {
      "image/png": "[encoded data removed]",
      "text/plain": [
       "<Figure size 432x432 with 1 Axes>"
      ]
     },
     "metadata": {
      "needs_background": "light"
     },
     "output_type": "display_data"
    }
   ],
   "source": [
    "# visualize Data\n",
    "plt.figure(figsize=(6,6))\n",
    "\n",
    "plt.scatter(df.loc[neg, 'feature 1'], df.loc[neg, 'feature 2'], color='r', marker='x', label='negative')\n",
    "plt.scatter(df.loc[pos, 'feature 1'], df.loc[pos, 'feature 2'], color='b', marker='o', label='positive')\n",
    "plt.xlabel('feature 1', size=14)\n",
    "plt.ylabel('feature 2', size=14)\n",
    "plt.legend()\n",
    "plt.xlim((-7,7))\n",
    "plt.ylim((-7,7))\n",
    "plt.show()"
   ]
  },
  {
   "cell_type": "code",
   "execution_count": 49,
   "id": "d9a990c7",
   "metadata": {},
   "outputs": [],
   "source": [
    "# define function to map higher order polynomial features\n",
    "def mapFeature(X1, X2, degree):\n",
    "    res = np.ones(X1.shape[0])\n",
    "    for i in range(1, degree + 1):\n",
    "        for j in range(0, i + 1):\n",
    "            res = np.column_stack((res, (X1 ** (i-j)) * (X2 ** j)))\n",
    "    \n",
    "    return res"
   ]
  },
  {
   "cell_type": "code",
   "execution_count": 50,
   "id": "9f702008",
   "metadata": {},
   "outputs": [],
   "source": [
    "X = df.iloc[:, :2] # Get the features \n",
    "y = df.iloc[:, 2]  # Get the target variable\n",
    "\n",
    "# loc is label-based, which means that you have to specify rows and columns based on\n",
    "# their row and column labels. iloc is integer position-based, so you have to specify\n",
    "# rows and columns by their integer position values."
   ]
  },
  {
   "cell_type": "code",
   "execution_count": 60,
   "id": "d8c17e02",
   "metadata": {},
   "outputs": [],
   "source": [
    "degree = 6\n",
    "X_poly = mapFeature(X.iloc[:, 0], X.iloc[:, 1], degree)"
   ]
  },
  {
   "cell_type": "code",
   "execution_count": 61,
   "id": "d05e4076",
   "metadata": {},
   "outputs": [],
   "source": [
    "# define the sigmoid function\n",
    "def sigmoid(z):\n",
    "    return 1 / (1 + np.exp(-z))"
   ]
  },
  {
   "cell_type": "code",
   "execution_count": 62,
   "id": "b5c715a3",
   "metadata": {},
   "outputs": [],
   "source": [
    "# define the Cost function for Logistic Regression\n",
    "def costFunc(theta, X, y):\n",
    "    m = y.shape[0]\n",
    "    z = X.dot(theta)\n",
    "    f = sigmoid(z)\n",
    "    term1 = y * np.log(f)\n",
    "    term2 = (1- y) * np.log(1 - f)\n",
    "    J = -np.sum(term1 + term2, axis = 0) / m\n",
    "    return J "
   ]
  },
  {
   "cell_type": "code",
   "execution_count": 63,
   "id": "5b9532ef",
   "metadata": {},
   "outputs": [],
   "source": [
    "# set initial values for our parameters\n",
    "initial_theta = np.zeros(X_poly.shape[1]).reshape(X_poly.shape[1], 1)"
   ]
  },
  {
   "cell_type": "code",
   "execution_count": 64,
   "id": "0b34deb5",
   "metadata": {},
   "outputs": [
    {
     "name": "stderr",
     "output_type": "stream",
     "text": [
      "<ipython-input-62-935a804db83d>:7: RuntimeWarning: divide by zero encountered in log\n",
      "  term2 = (1- y) * np.log(1 - f)\n",
      "C:\\Users\\mr0708137\\Anaconda3\\lib\\site-packages\\scipy\\optimize\\_numdiff.py:557: RuntimeWarning: invalid value encountered in subtract\n",
      "  df = fun(x) - f0\n",
      "<ipython-input-62-935a804db83d>:7: RuntimeWarning: divide by zero encountered in log\n",
      "  term2 = (1- y) * np.log(1 - f)\n",
      "<ipython-input-62-935a804db83d>:7: RuntimeWarning: divide by zero encountered in log\n",
      "  term2 = (1- y) * np.log(1 - f)\n"
     ]
    }
   ],
   "source": [
    "# call the optimization routine to minimize the cost function\n",
    "# note: This automatically picks the learning rate\n",
    "from scipy.optimize import minimize\n",
    "\n",
    "res = minimize(costFunc, initial_theta, args=(X_poly, y))"
   ]
  },
  {
   "cell_type": "code",
   "execution_count": 65,
   "id": "93f28675",
   "metadata": {},
   "outputs": [
    {
     "name": "stdout",
     "output_type": "stream",
     "text": [
      "[-2.11996836e+02  3.50260026e+00  3.42756491e+00 -7.26695844e+01\n",
      " -7.21665471e-01 -8.28896831e+01 -1.04228191e+01 -3.89471054e+01\n",
      "  5.67044102e+01  9.97526045e+00  1.38879157e+01 -1.03433129e+01\n",
      "  6.70372285e+01  2.63039830e+01  1.25932942e+01  4.79524081e-03\n",
      "  2.43160113e+00  1.67797320e+00 -1.32243196e+00 -4.90048265e+00\n",
      " -8.17638247e-01 -3.99830473e-01  7.77597696e-01 -2.33093560e+00\n",
      " -1.82941641e+00 -2.58911936e+00 -6.83607161e-01 -2.64295720e-01]\n"
     ]
    }
   ],
   "source": [
    "# our optimizated coefficients\n",
    "theta = res.x\n",
    "print(theta)"
   ]
  },
  {
   "cell_type": "code",
   "execution_count": 66,
   "id": "b188624c",
   "metadata": {},
   "outputs": [],
   "source": [
    "# define a function to plot the decision boundary\n",
    "def plotDecisionBoundary(theta,degree, axes):\n",
    "    u = np.linspace(-6, 6, 50)\n",
    "    v = np.linspace(-6, 6, 50)\n",
    "    U,V = np.meshgrid(u,v)\n",
    "    \n",
    "    # convert U, V to vectors for calculating additional features\n",
    "    # using vectorized implementation\n",
    "    U = np.ravel(U)\n",
    "    V = np.ravel(V)\n",
    "    \n",
    "#     Z = np.zeros((len(u) * len(v)))\n",
    "    \n",
    "    X_poly = mapFeature(U, V, degree)\n",
    "    Z = X_poly.dot(theta)\n",
    "    \n",
    "    # reshape U, V, Z back to matrix\n",
    "    U = U.reshape((len(u), len(v)))\n",
    "    V = V.reshape((len(u), len(v)))\n",
    "    Z = Z.reshape((len(u), len(v)))\n",
    "    \n",
    "    cs = axes.contour(U, V, Z, levels=[0], cmap= \"Greys_r\")\n",
    "    axes.legend(labels=['positive', 'negative', 'Decision Boundary'])\n",
    "    return cs"
   ]
  },
  {
   "cell_type": "code",
   "execution_count": 67,
   "id": "45622262",
   "metadata": {
    "scrolled": true
   },
   "outputs": [
    {
     "data": {
      "image/png": "[encoded data removed]",
      "text/plain": [
       "<Figure size 432x288 with 1 Axes>"
      ]
     },
     "metadata": {
      "needs_background": "light"
     },
     "output_type": "display_data"
    }
   ],
   "source": [
    "# plot decision boundary\n",
    "fig, axes = plt.subplots()\n",
    "\n",
    "axes.scatter(df.loc[neg, 'feature 1'], df.loc[neg, 'feature 2'], color='r', marker='x', label='negative')\n",
    "axes.scatter(df.loc[pos, 'feature 1'], df.loc[pos, 'feature 2'], color='b', marker='o', label='positive')\n",
    "plt.xlabel('feature 1', size=14)\n",
    "plt.ylabel('feature 2', size=14)\n",
    "plt.legend()\n",
    "plt.xlim((-7,7))\n",
    "plt.ylim((-7,7))\n",
    "\n",
    "plotDecisionBoundary(theta, degree, axes)\n",
    "\n",
    "plt.show()"
   ]
  },
  {
   "cell_type": "markdown",
   "id": "48a58001",
   "metadata": {},
   "source": [
    "You could also use `PolynomialFeatures` method from sklearn to generate polynomial and interaction features. then, use `LogisticRegression` method from sklearn to build the model."
   ]
  },
  {
   "cell_type": "code",
   "execution_count": 98,
   "id": "7b72c40b",
   "metadata": {},
   "outputs": [
    {
     "name": "stdout",
     "output_type": "stream",
     "text": [
      "[-6.34383189e-01 -4.94310188e-02  1.78609681e-02 -3.55770150e-01\n",
      "  3.56803570e-02 -3.16486614e-01  5.65117321e-02 -6.85745030e-03\n",
      "  1.76573438e-03  6.54878259e-03 -3.66986914e-01 -4.70156349e-02\n",
      " -1.05597918e-01  7.14061301e-02 -4.21500369e-01 -4.28600206e-02\n",
      " -1.08011956e-01  2.03695353e-01  5.60224378e-02 -7.15182287e-04\n",
      "  3.76117780e-03  3.91508395e-02  4.79575187e-04  2.94696616e-01\n",
      " -8.30645018e-02 -8.14857649e-02  5.51408612e-02  4.77907616e-02]\n"
     ]
    },
    {
     "name": "stderr",
     "output_type": "stream",
     "text": [
      "C:\\Users\\mr0708137\\Anaconda3\\lib\\site-packages\\sklearn\\utils\\validation.py:63: DataConversionWarning: A column-vector y was passed when a 1d array was expected. Please change the shape of y to (n_samples, ), for example using ravel().\n",
      "  return f(*args, **kwargs)\n",
      "C:\\Users\\mr0708137\\Anaconda3\\lib\\site-packages\\sklearn\\svm\\_base.py:985: ConvergenceWarning: Liblinear failed to converge, increase the number of iterations.\n",
      "  warnings.warn(\"Liblinear failed to converge, increase \"\n"
     ]
    },
    {
     "data": {
      "image/png": "[encoded data removed]",
      "text/plain": [
       "<Figure size 432x288 with 1 Axes>"
      ]
     },
     "metadata": {
      "needs_background": "light"
     },
     "output_type": "display_data"
    }
   ],
   "source": [
    "from sklearn.preprocessing import PolynomialFeatures\n",
    "X_poly = PolynomialFeatures(degree=degree, include_bias=False).fit_transform(X)\n",
    "\n",
    "# from sklearn.preprocessing import StandardScaler\n",
    "# sc = StandardScaler()\n",
    "# sc.fit_transform(X_poly)\n",
    "# y = np.array(y).reshape(-1,1)\n",
    "# sc.fit_transform(y)\n",
    "\n",
    "from sklearn.linear_model import LogisticRegression\n",
    "logreg = LogisticRegression(solver='liblinear', C=10).fit(X_poly, y)\n",
    "\n",
    "theta = np.ravel(np.concatenate((logreg.intercept_.reshape(-1,1), logreg.coef_), axis = 1))\n",
    "print(theta)\n",
    "\n",
    "fig, axes = plt.subplots()\n",
    "\n",
    "axes.scatter(df.loc[neg, 'feature 1'], df.loc[neg, 'feature 2'], color='r', marker='x', label='negative')\n",
    "axes.scatter(df.loc[pos, 'feature 1'], df.loc[pos, 'feature 2'], color='b', marker='o', label='positive')\n",
    "plt.xlabel('feature 1', size=14)\n",
    "plt.ylabel('feature 2', size=14)\n",
    "plt.legend()\n",
    "plt.xlim((-7,7))\n",
    "plt.ylim((-7,7))\n",
    "\n",
    "plotDecisionBoundary(theta, degree, axes)\n",
    "\n",
    "plt.show()"
   ]
  },
  {
   "cell_type": "markdown",
   "id": "0c9c777d",
   "metadata": {},
   "source": [
    "As expected this is underfitting the data. The model in this case is said to be high bias and low variance. That is the model is biased towards assuming the data in linearly seperable while the fact is that its not.\n",
    "\n",
    "Now Lets try the model by giving a higher degree for the polynomial features"
   ]
  },
  {
   "cell_type": "code",
   "execution_count": 52,
   "id": "21fa001c",
   "metadata": {
    "scrolled": true
   },
   "outputs": [
    {
     "name": "stderr",
     "output_type": "stream",
     "text": [
      "<ipython-input-46-935a804db83d>:7: RuntimeWarning: divide by zero encountered in log\n",
      "  term2 = (1- y) * np.log(1 - f)\n",
      "C:\\Users\\mr0708137\\Anaconda3\\lib\\site-packages\\scipy\\optimize\\_numdiff.py:557: RuntimeWarning: invalid value encountered in subtract\n",
      "  df = fun(x) - f0\n",
      "<ipython-input-46-935a804db83d>:7: RuntimeWarning: divide by zero encountered in log\n",
      "  term2 = (1- y) * np.log(1 - f)\n",
      "<ipython-input-46-935a804db83d>:7: RuntimeWarning: divide by zero encountered in log\n",
      "  term2 = (1- y) * np.log(1 - f)\n",
      "<ipython-input-45-ce65b309352b>:3: RuntimeWarning: overflow encountered in exp\n",
      "  return 1 / (1 + np.exp(-z))\n",
      "<ipython-input-46-935a804db83d>:6: RuntimeWarning: divide by zero encountered in log\n",
      "  term1 = y * np.log(f)\n"
     ]
    },
    {
     "name": "stdout",
     "output_type": "stream",
     "text": [
      "[-336.0916002     8.08797798    0.60904439 -160.44266785    6.05884971\n",
      "  -22.7249305     7.13056585   73.26796659    8.97592665  -62.18502705\n",
      "   31.79402845  -70.45873992   77.40013616   86.44078456  -14.12977114\n",
      "   -1.53953753   -3.59622538    6.62132333   -2.70148354   -5.01874866\n",
      "    3.25746423   -0.89020539    4.16267375   -2.91683987   -4.99890118\n",
      "   -0.467976     -2.34534337    0.81287238]\n"
     ]
    },
    {
     "name": "stderr",
     "output_type": "stream",
     "text": [
      "<ipython-input-45-ce65b309352b>:3: RuntimeWarning: overflow encountered in exp\n",
      "  return 1 / (1 + np.exp(-z))\n",
      "<ipython-input-46-935a804db83d>:6: RuntimeWarning: divide by zero encountered in log\n",
      "  term1 = y * np.log(f)\n",
      "<ipython-input-46-935a804db83d>:7: RuntimeWarning: divide by zero encountered in log\n",
      "  term2 = (1- y) * np.log(1 - f)\n"
     ]
    }
   ],
   "source": [
    "degree = 6\n",
    "X_poly = mapFeature(X.iloc[:, 0], X.iloc[:, 1], degree)\n",
    "initial_theta = np.zeros(X_poly.shape[1]).reshape(X_poly.shape[1], 1)\n",
    "\n",
    "res = minimize(costFunc, initial_theta, args=(X_poly, y))\n",
    "\n",
    "theta = res.x\n",
    "print(theta)"
   ]
  },
  {
   "cell_type": "code",
   "execution_count": 53,
   "id": "7a568845",
   "metadata": {},
   "outputs": [
    {
     "data": {
      "image/png": "[encoded data removed]",
      "text/plain": [
       "<Figure size 432x288 with 1 Axes>"
      ]
     },
     "metadata": {
      "needs_background": "light"
     },
     "output_type": "display_data"
    }
   ],
   "source": [
    "m = np.shape(theta)\n",
    "\n",
    "plt.bar(range(1,len(theta)),theta[1:])\n",
    "plt.show()"
   ]
  },
  {
   "cell_type": "code",
   "execution_count": 54,
   "id": "6a4195d0",
   "metadata": {},
   "outputs": [
    {
     "data": {
      "image/png": "[encoded data removed]",
      "text/plain": [
       "<Figure size 432x288 with 1 Axes>"
      ]
     },
     "metadata": {
      "needs_background": "light"
     },
     "output_type": "display_data"
    }
   ],
   "source": [
    "# Plot Decision boundary\n",
    "fig, axes = plt.subplots()\n",
    "\n",
    "axes.scatter(df.loc[neg, 'feature 1'], df.loc[neg, 'feature 2'], color='r', marker='x', label='negative')\n",
    "axes.scatter(df.loc[pos, 'feature 1'], df.loc[pos, 'feature 2'], color='b', marker='o', label='positive')\n",
    "plt.xlabel('feature 1', size=14)\n",
    "plt.ylabel('feature 2', size=14)\n",
    "plt.legend()\n",
    "# plt.xlim((-7,7))\n",
    "# plt.ylim((-7,7))\n",
    "\n",
    "plotDecisionBoundary(theta, degree, axes)\n",
    "\n",
    "plt.show()"
   ]
  },
  {
   "cell_type": "markdown",
   "id": "c268ee24",
   "metadata": {},
   "source": [
    "As we can see if we set degree to be 6, the model tries hard to capture every single example perfectly and overfits the data. This kind of model is said to have low bias and high variance. That is the model has not pre-conceived notion about the seperation of the positive and negative examples and pretty much can fit any kind of data. Such model will fail in predicting the correct classification when it sees new examples.\n",
    "\n",
    "One of techiques is to use regularization. The idea is to penalize the algorithm when it tries to overfit by adding a regularization term to the cost function. The New Cost function with the regularization has a new term added to the old cost function: $\\frac{\\lambda}{2m} \\sum_{j=1}^{n} \\theta_j^2$, where $\\lambda$ is the regularization factor and $n$ is the number of features."
   ]
  },
  {
   "cell_type": "code",
   "execution_count": 55,
   "id": "cb08a555",
   "metadata": {},
   "outputs": [],
   "source": [
    "# define the regularized cost function\n",
    "def costFuncReg(theta, X, y, reg_factor):\n",
    "    m = y.shape[0]\n",
    "    z = X.dot(theta)\n",
    "    f = sigmoid(z)\n",
    "    term1 = y * np.log(f)\n",
    "    term2 = (1- y) * np.log(1 - f)\n",
    "    J = -np.sum(term1 + term2, axis = 0) / m\n",
    "    \n",
    "    # regularization Term\n",
    "    reg_term = reg_factor/(2 * m) * sum(theta[1:] ** 2)\n",
    "    \n",
    "    J = J + reg_term\n",
    "    return J  "
   ]
  },
  {
   "cell_type": "code",
   "execution_count": 56,
   "id": "c7b20741",
   "metadata": {
    "scrolled": true
   },
   "outputs": [
    {
     "name": "stderr",
     "output_type": "stream",
     "text": [
      "<ipython-input-55-42b5744c5746>:7: RuntimeWarning: divide by zero encountered in log\n",
      "  term2 = (1- y) * np.log(1 - f)\n",
      "C:\\Users\\mr0708137\\Anaconda3\\lib\\site-packages\\scipy\\optimize\\_numdiff.py:557: RuntimeWarning: invalid value encountered in subtract\n",
      "  df = fun(x) - f0\n",
      "<ipython-input-55-42b5744c5746>:7: RuntimeWarning: divide by zero encountered in log\n",
      "  term2 = (1- y) * np.log(1 - f)\n",
      "<ipython-input-55-42b5744c5746>:7: RuntimeWarning: divide by zero encountered in log\n",
      "  term2 = (1- y) * np.log(1 - f)\n"
     ]
    },
    {
     "name": "stdout",
     "output_type": "stream",
     "text": [
      "[-7.29812966e+00  2.89501324e-02 -1.45608668e-01 -6.08648453e-02\n",
      "  2.53886821e-02  2.77526656e-01  3.23072424e-02  4.51118622e-02\n",
      " -1.09586423e-01 -6.48784560e-01 -5.98046489e-02 -3.72604900e-02\n",
      " -2.86352281e-02  4.66039525e-01 -2.69672155e-01 -2.97321614e-02\n",
      "  2.81223034e-02  7.59363806e-02 -9.15854737e-02 -4.62185216e-01\n",
      "  4.25484904e-02  1.64779679e-02 -4.68167086e-03 -8.16785493e-03\n",
      " -4.69278062e-02  4.76328952e-01  2.23509623e-02  1.91639549e-02]\n"
     ]
    },
    {
     "name": "stderr",
     "output_type": "stream",
     "text": [
      "<ipython-input-55-42b5744c5746>:7: RuntimeWarning: divide by zero encountered in log\n",
      "  term2 = (1- y) * np.log(1 - f)\n"
     ]
    }
   ],
   "source": [
    "reg_factor = 1\n",
    "degree = 6\n",
    "X_poly = mapFeature(X.iloc[:, 0], X.iloc[:, 1], degree)\n",
    "initial_theta = np.zeros(X_poly.shape[1]).reshape(X_poly.shape[1], 1)\n",
    "\n",
    "res = minimize(costFuncReg, initial_theta, args=(X_poly, y, reg_factor))\n",
    "\n",
    "theta = res.x\n",
    "print(theta)"
   ]
  },
  {
   "cell_type": "code",
   "execution_count": 57,
   "id": "d75d21cc",
   "metadata": {},
   "outputs": [
    {
     "data": {
      "image/png": "[encoded data removed]",
      "text/plain": [
       "<Figure size 432x288 with 1 Axes>"
      ]
     },
     "metadata": {
      "needs_background": "light"
     },
     "output_type": "display_data"
    }
   ],
   "source": [
    "m = np.shape(theta)\n",
    "\n",
    "plt.bar(range(1,len(theta)),theta[1:])\n",
    "plt.show()"
   ]
  },
  {
   "cell_type": "code",
   "execution_count": 58,
   "id": "3741c3ff",
   "metadata": {},
   "outputs": [
    {
     "data": {
      "image/png": "[encoded data removed]",
      "text/plain": [
       "<Figure size 432x288 with 1 Axes>"
      ]
     },
     "metadata": {
      "needs_background": "light"
     },
     "output_type": "display_data"
    }
   ],
   "source": [
    "# Plot Decision boundary\n",
    "fig, axes = plt.subplots()\n",
    "\n",
    "axes.scatter(df.loc[neg, 'feature 1'], df.loc[neg, 'feature 2'], color='r', marker='x', label='negative')\n",
    "axes.scatter(df.loc[pos, 'feature 1'], df.loc[pos, 'feature 2'], color='b', marker='o', label='positive')\n",
    "plt.xlabel('feature 1', size=14)\n",
    "plt.ylabel('feature 2', size=14)\n",
    "plt.legend()\n",
    "# plt.xlim((-7,7))\n",
    "# plt.ylim((-7,7))\n",
    "\n",
    "plotDecisionBoundary(theta, degree, axes)\n",
    "\n",
    "plt.show()"
   ]
  },
  {
   "cell_type": "markdown",
   "id": "865942bb",
   "metadata": {},
   "source": [
    "As we see that the regularization prevented the degree = 6 overfitted model. However, its also good to see the negative effects of too much regularization on our model. As we can see if you change the degree to 2, having too much regularization negatively affects the model, since it now high bias towards a certain combinations of `'feature1'` and `'feature2'`."
   ]
  },
  {
   "cell_type": "code",
   "execution_count": null,
   "id": "7001e4cc",
   "metadata": {},
   "outputs": [],
   "source": []
  },
  {
   "cell_type": "code",
   "execution_count": null,
   "id": "c4c1287d",
   "metadata": {},
   "outputs": [],
   "source": []
  },
  {
   "cell_type": "code",
   "execution_count": 2,
   "id": "010c4f61",
   "metadata": {},
   "outputs": [],
   "source": [
    "from sklearn.datasets import make_classification"
   ]
  },
  {
   "cell_type": "code",
   "execution_count": 5,
   "id": "130bca3b",
   "metadata": {},
   "outputs": [],
   "source": [
    "X, y = make_classification(n_samples=1000, n_features=2, n_informative=2,\n",
    "                           n_redundant=0, n_classes=2, n_clusters_per_class=1)#, random_state=1)"
   ]
  },
  {
   "cell_type": "code",
   "execution_count": 6,
   "id": "8a4d8cc0",
   "metadata": {},
   "outputs": [
    {
     "data": {
      "image/png": "[encoded data removed]",
      "text/plain": [
       "<Figure size 432x432 with 1 Axes>"
      ]
     },
     "metadata": {
      "needs_background": "light"
     },
     "output_type": "display_data"
    }
   ],
   "source": [
    "class1 = y == 0\n",
    "class2 = y == 1\n",
    "\n",
    "plt.figure(figsize=(6,6))\n",
    "\n",
    "plt.scatter(X[class1, 0], X[class1, 1], color='r', marker='x', label='class1')\n",
    "plt.scatter(X[class2, 0], X[class2, 1], color='b', marker='o', label='class2')\n",
    "\n",
    "plt.xlabel('feature 1', size=14)\n",
    "plt.ylabel('feature 2', size=14)\n",
    "plt.legend()\n",
    "\n",
    "plt.xlim((np.min(X[:,0]),np.max(X[:,0])))\n",
    "plt.ylim((np.min(X[:,1]),np.max(X[:,1])))\n",
    "\n",
    "\n",
    "plt.show()"
   ]
  },
  {
   "cell_type": "code",
   "execution_count": 11,
   "id": "38c82ccc",
   "metadata": {},
   "outputs": [
    {
     "name": "stdout",
     "output_type": "stream",
     "text": [
      "(1000, 2)\n",
      "(1000, 1)\n"
     ]
    },
    {
     "data": {
      "text/html": [
       "<div>\n",
       "<style scoped>\n",
       "    .dataframe tbody tr th:only-of-type {\n",
       "        vertical-align: middle;\n",
       "    }\n",
       "\n",
       "    .dataframe tbody tr th {\n",
       "        vertical-align: top;\n",
       "    }\n",
       "\n",
       "    .dataframe thead th {\n",
       "        text-align: right;\n",
       "    }\n",
       "</style>\n",
       "<table border=\"1\" class=\"dataframe\">\n",
       "  <thead>\n",
       "    <tr style=\"text-align: right;\">\n",
       "      <th></th>\n",
       "      <th>feature 1</th>\n",
       "      <th>feature 2</th>\n",
       "      <th>result</th>\n",
       "    </tr>\n",
       "  </thead>\n",
       "  <tbody>\n",
       "    <tr>\n",
       "      <th>0</th>\n",
       "      <td>-2.125982</td>\n",
       "      <td>-0.240697</td>\n",
       "      <td>0.0</td>\n",
       "    </tr>\n",
       "    <tr>\n",
       "      <th>1</th>\n",
       "      <td>1.749024</td>\n",
       "      <td>-1.214761</td>\n",
       "      <td>1.0</td>\n",
       "    </tr>\n",
       "    <tr>\n",
       "      <th>2</th>\n",
       "      <td>-1.478128</td>\n",
       "      <td>-1.161146</td>\n",
       "      <td>0.0</td>\n",
       "    </tr>\n",
       "    <tr>\n",
       "      <th>3</th>\n",
       "      <td>-1.196342</td>\n",
       "      <td>-0.312380</td>\n",
       "      <td>0.0</td>\n",
       "    </tr>\n",
       "    <tr>\n",
       "      <th>4</th>\n",
       "      <td>0.277409</td>\n",
       "      <td>-0.624031</td>\n",
       "      <td>1.0</td>\n",
       "    </tr>\n",
       "    <tr>\n",
       "      <th>...</th>\n",
       "      <td>...</td>\n",
       "      <td>...</td>\n",
       "      <td>...</td>\n",
       "    </tr>\n",
       "    <tr>\n",
       "      <th>995</th>\n",
       "      <td>0.847693</td>\n",
       "      <td>-1.060918</td>\n",
       "      <td>1.0</td>\n",
       "    </tr>\n",
       "    <tr>\n",
       "      <th>996</th>\n",
       "      <td>-0.941260</td>\n",
       "      <td>-2.117371</td>\n",
       "      <td>0.0</td>\n",
       "    </tr>\n",
       "    <tr>\n",
       "      <th>997</th>\n",
       "      <td>-0.047597</td>\n",
       "      <td>-0.424955</td>\n",
       "      <td>1.0</td>\n",
       "    </tr>\n",
       "    <tr>\n",
       "      <th>998</th>\n",
       "      <td>-1.700482</td>\n",
       "      <td>-0.698691</td>\n",
       "      <td>0.0</td>\n",
       "    </tr>\n",
       "    <tr>\n",
       "      <th>999</th>\n",
       "      <td>1.583605</td>\n",
       "      <td>-1.204528</td>\n",
       "      <td>1.0</td>\n",
       "    </tr>\n",
       "  </tbody>\n",
       "</table>\n",
       "<p>1000 rows × 3 columns</p>\n",
       "</div>"
      ],
      "text/plain": [
       "     feature 1  feature 2  result\n",
       "0    -2.125982  -0.240697     0.0\n",
       "1     1.749024  -1.214761     1.0\n",
       "2    -1.478128  -1.161146     0.0\n",
       "3    -1.196342  -0.312380     0.0\n",
       "4     0.277409  -0.624031     1.0\n",
       "..         ...        ...     ...\n",
       "995   0.847693  -1.060918     1.0\n",
       "996  -0.941260  -2.117371     0.0\n",
       "997  -0.047597  -0.424955     1.0\n",
       "998  -1.700482  -0.698691     0.0\n",
       "999   1.583605  -1.204528     1.0\n",
       "\n",
       "[1000 rows x 3 columns]"
      ]
     },
     "execution_count": 11,
     "metadata": {},
     "output_type": "execute_result"
    }
   ],
   "source": [
    "y = np.reshape(y,(-1,1))\n",
    "print(np.shape(X))\n",
    "print(np.shape(y))\n",
    "mydata = np.concatenate((X,y), axis=1)\n",
    "df = pd.DataFrame(mydata, columns=['feature 1', 'feature 2', 'result'])\n",
    "df"
   ]
  }
 ],
 "metadata": {
  "kernelspec": {
   "display_name": "Python 3",
   "language": "python",
   "name": "python3"
  },
  "language_info": {
   "codemirror_mode": {
    "name": "ipython",
    "version": 3
   },
   "file_extension": ".py",
   "mimetype": "text/x-python",
   "name": "python",
   "nbconvert_exporter": "python",
   "pygments_lexer": "ipython3",
   "version": "3.8.8"
  }
 },
 "nbformat": 4,
 "nbformat_minor": 5
}
