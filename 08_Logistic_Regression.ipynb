{
 "cells": [
  {
   "cell_type": "markdown",
   "id": "5a44c289",
   "metadata": {},
   "source": [
    "# Logistic Regression\n",
    "\n",
    "Logistic regression is a statistical method used for *binary classification*, which means it is used to predict the probability of a binary outcome (such as whether a customer will buy a product or not) based on one or more predictor variables. It's called \"logistic\" because it models the probability of the outcome using a logistic function.\n",
    "\n",
    "In logistic regression, the dependent variable is binary, meaning it has only two possible outcomes (e.g., 0 or 1, yes or no). The independent variables can be continuous, categorical, or a mix of both. The goal of logistic regression is to find the best-fitting model to describe the relationship between the independent variables and the probability of the binary outcome.\n",
    "\n",
    "The logistic regression model calculates the odds of the event occurring (e.g., the odds of a customer buying a product) and then transforms these odds into probabilities using the logistic function (also known as the sigmoid function). The logistic function ensures that the predicted probabilities range between 0 and 1.\n",
    "\n",
    "Logistic regression is widely used in various fields such as finance, healthcare, marketing, and social sciences for tasks such as predicting customer churn, classifying spam emails, diagnosing diseases, and more."
   ]
  },
  {
   "cell_type": "markdown",
   "id": "49b31b4f",
   "metadata": {},
   "source": [
    "## Mathematical Representation\n",
    "\n",
    "In logistic regression, we start with a linear equation:\n",
    "\n",
    "$$ z = b + w_1x_1 + w_2x_2 + \\ldots + w_nx_n $$\n",
    "\n",
    "where:\n",
    "- $ z $ is the linear combination of the predictor variables weighted by their coefficients.\n",
    "- $ b $ is the intercept term.\n",
    "- $ w_1, w_2, \\ldots, w_n $ are the coefficients associated with each predictor variable $ x_1, x_2, \\ldots, x_n $ respectively.\n",
    "\n",
    "This linear combination $z$ is then transformed into a probability using the logistic (sigmoid) function:\n",
    "\n",
    "$$ P(y=1|X) = \\frac{1}{1 + e^{-z}} $$\n",
    "\n",
    "where:\n",
    "- $ P(y=1|X) $ is the probability that the dependent variable $ y $ equals 1 given the values of the predictor variables $ X $.\n",
    "- $ e $ is the base of the natural logarithm (approximately equal to 2.71828).\n",
    "\n",
    "### Model Interpretation\n",
    "\n",
    "- The logistic function ensures that the predicted probability $P(y=1|X) $ falls between 0 and 1.\n",
    "- If the predicted probability is closer to 1, it indicates a higher likelihood of the event $ y=1 $ occurring.\n",
    "- If the predicted probability is closer to 0, it indicates a lower likelihood of the event $ y=1 $ occurring.\n",
    "\n",
    "### Model Training\n",
    "\n",
    "The logistic regression model is trained by estimating the coefficients $ b, w_1, w_2, \\ldots, w_n $ that best fit the observed data. This is typically done using maximum likelihood estimation (MLE) or gradient descent optimization techniques.\n",
    "\n",
    "### Decision Boundary\n",
    "\n",
    "In binary classification problems, logistic regression predicts the class label based on a decision boundary. For example, in a two-dimensional space with two predictor variables, the decision boundary is a line separating the instances of different classes (e.g., class 0 and class 1).\n",
    "\n",
    "### Evaluation\n",
    "\n",
    "Logistic regression models are evaluated using metrics such as accuracy, precision, recall, F1-score, and the area under the ROC curve (AUC-ROC), depending on the specific requirements of the problem."
   ]
  },
  {
   "cell_type": "markdown",
   "id": "a4effc34",
   "metadata": {},
   "source": [
    "## Using scikit-learn for Logistic Regression\n",
    "\n",
    "[Scikit-learn (sklearn)](https://scikit-learn.org/stable/) is a popular machine learning library in Python that provides various tools for building and evaluating machine learning models. Logistic regression implementation in sklearn is straightforward and easy to use.\n",
    "\n",
    "### 1. Import Necessary Libraries\n",
    "\n",
    "First, you need to import the required libraries. For logistic regression, you'll need `sklearn.linear_model` and possibly other libraries depending on your specific requirements.\n",
    "\n",
    "```python\n",
    "from sklearn.linear_model import LogisticRegression\n",
    "```\n",
    "\n",
    "### 2. Prepare Your Data\n",
    "Before fitting a logistic regression model, you need to prepare your data. This typically involves splitting your data into features (X) and the target variable (y), and possibly performing preprocessing steps such as scaling or encoding categorical variables.\n",
    "\n",
    "### 3. Create and Fit the Logistic Regression Model\n",
    "Next, you'll create an instance of the LogisticRegression class and fit the model to your training data.\n",
    "\n",
    "```python\n",
    "logistic_regression = LogisticRegression() # Create an instance of LogisticRegression\n",
    "logistic_regression.fit(X_train, y_train)  # Fit the model to the training data\n",
    "```\n",
    "Parameter `solver` in `LogisticRegression()` is the algorithm to use in the optimization problem. Default is `'lbfgs'`. To choose a solver, you might want to consider the following aspects:\n",
    "* For small datasets, `'liblinear'` is a good choice, whereas `'sag'` and `'saga'` are faster for large ones.\n",
    "* For multiclass problems, only `'newton-cg'`, `'sag'`, `'saga'` and `'lbfgs'` handle multinomial loss.\n",
    "* `'liblinear'` is limited to one-versus-rest schemes.\n",
    "* The choice of the algorithm depends on the penalty chosen: Supported penalties by solver:\n",
    "    * `'newton-cg'` - [`'l2'`, `'none'`]\n",
    "    * `'lbfgs'` - [`'l2'`, `'none'`]\n",
    "    * `'liblinear'` - [`'l1'`, `'l2'`]\n",
    "    * `'sag'` - [`'l2'`, ‘none’]\n",
    "    * `'saga'` - [`'elasticnet'`, `'l1'`, `'l2'`, `'none'`]\n",
    "\n",
    "### 4. Make Predictions\n",
    "Once the model is trained, you can use it to make predictions on new data.\n",
    "```python\n",
    "y_pred = logistic_regression.predict(X_test) # Make predictions on the test data\n",
    "```\n",
    "### 5. Evaluate the Model\n",
    "Finally, you'll want to evaluate the performance of your logistic regression model using appropriate evaluation metrics such as accuracy, precision, recall, F1-score, or the area under the ROC curve (AUC-ROC).\n",
    "```python\n",
    "from sklearn.metrics import accuracy_score, classification_report\n",
    "\n",
    "accuracy = accuracy_score(y_test, y_pred) # Calculate accuracy\n",
    "print(\"Accuracy:\", accuracy)\n",
    "print(classification_report(y_test, y_pred)) # Generate a classification report\n",
    "```"
   ]
  },
  {
   "cell_type": "code",
   "execution_count": 1,
   "id": "77508dec",
   "metadata": {},
   "outputs": [],
   "source": [
    "import matplotlib.pyplot as plt\n",
    "import numpy as np\n",
    "import pandas as pd\n",
    "from sklearn.model_selection import train_test_split\n",
    "from sklearn.linear_model import LogisticRegression\n",
    "from sklearn import metrics"
   ]
  },
  {
   "cell_type": "markdown",
   "id": "29df3adf",
   "metadata": {},
   "source": [
    "## Example 1"
   ]
  },
  {
   "cell_type": "code",
   "execution_count": 2,
   "id": "af0004e4",
   "metadata": {},
   "outputs": [
    {
     "data": {
      "image/png": "[encoded data removed]",
      "text/plain": [
       "<Figure size 432x288 with 1 Axes>"
      ]
     },
     "metadata": {
      "needs_background": "light"
     },
     "output_type": "display_data"
    }
   ],
   "source": [
    "X = np.arange(1,11).reshape(-1, 1)    # x has two dimensions\n",
    "y = np.array([0, 0, 0, 0, 1, 1, 1, 1, 1, 1])\n",
    "\n",
    "plt.scatter(X, y, marker='x', s=70)  # plot actual data\n",
    "plt.xticks(np.arange(1,11))\n",
    "plt.yticks([0,1])\n",
    "plt.show()"
   ]
  },
  {
   "cell_type": "code",
   "execution_count": 3,
   "id": "5ff6bf0f",
   "metadata": {},
   "outputs": [
    {
     "name": "stdout",
     "output_type": "stream",
     "text": [
      "[-1.06596258]\n",
      "[[0.39989911]]\n"
     ]
    }
   ],
   "source": [
    "model = LogisticRegression(solver='liblinear')\n",
    "model.fit(X, y)\n",
    "\n",
    "b = model.intercept_\n",
    "w = model.coef_\n",
    "\n",
    "print(b)\n",
    "print(w)"
   ]
  },
  {
   "cell_type": "code",
   "execution_count": 4,
   "id": "9ca78822",
   "metadata": {
    "scrolled": true
   },
   "outputs": [
    {
     "name": "stdout",
     "output_type": "stream",
     "text": [
      "decision boundary = 2.67\n"
     ]
    },
    {
     "data": {
      "image/png": "[encoded data removed]",
      "text/plain": [
       "<Figure size 432x288 with 1 Axes>"
      ]
     },
     "metadata": {
      "needs_background": "light"
     },
     "output_type": "display_data"
    }
   ],
   "source": [
    "plt.scatter(X, y, marker='x', s=70)  # plot actual data\n",
    "plt.xticks(np.arange(0,11))\n",
    "plt.yticks([0,1])\n",
    "\n",
    "\n",
    "X_ = np.linspace(-5,10,100).reshape((-1,1))\n",
    "z = b + w * X_\n",
    "f = 1 / (1 + np.exp(-z))\n",
    "\n",
    "plt.plot(X_, f, 'r') # plot logistic regression line\n",
    "\n",
    "db = -b/w  # decision boundary\n",
    "db = db.squeeze()\n",
    "print('decision boundary =', '%.2f' %db)\n",
    "\n",
    "plt.hlines(0.5, min(X_), db, linestyles='dashed', colors='k', )\n",
    "plt.vlines(db, 0, 1, colors='g')\n",
    "\n",
    "plt.text(-1, .55, 'y=0.5', fontsize=14)\n",
    "plt.text(db+.15, 0.2, 'x='+'{:.2f}'.format(db),\n",
    "         fontsize=14, rotation='vertical', c='g')\n",
    "\n",
    "plt.xlim([db-8, db+8])\n",
    "\n",
    "plt.show()"
   ]
  },
  {
   "cell_type": "code",
   "execution_count": 5,
   "id": "bb715bc7",
   "metadata": {},
   "outputs": [
    {
     "name": "stdout",
     "output_type": "stream",
     "text": [
      "[0 1]\n"
     ]
    }
   ],
   "source": [
    "print(model.classes_)"
   ]
  },
  {
   "cell_type": "code",
   "execution_count": 6,
   "id": "9647ffdb",
   "metadata": {},
   "outputs": [
    {
     "name": "stdout",
     "output_type": "stream",
     "text": [
      "[[0.66062114 0.33937886]\n",
      " [0.56615102 0.43384898]\n",
      " [0.46661605 0.53338395]\n",
      " [0.36966975 0.63033025]\n",
      " [0.2822085  0.7177915 ]\n",
      " [0.20859222 0.79140778]\n",
      " [0.15016198 0.84983802]\n",
      " [0.10590872 0.89409128]\n",
      " [0.07356807 0.92643193]\n",
      " [0.05054479 0.94945521]] \n",
      "\n",
      "[0 0 1 1 1 1 1 1 1 1] prediction\n",
      "[0 0 0 0 1 1 1 1 1 1] actual\n"
     ]
    }
   ],
   "source": [
    "# The matrix of probabilities that the predicted output is equal to zero or one\n",
    "# The first column is the probability of the predicted output being 0, that is 1-p(x).\n",
    "# The second column is the probability that the output is 1, or p(x).\n",
    "print(model.predict_proba(X), '\\n') \n",
    "\n",
    "print(model.predict(X), 'prediction')  # the predicted output values as a one-dimensional array\n",
    "print(y, 'actual')                     # actual data"
   ]
  },
  {
   "cell_type": "code",
   "execution_count": 7,
   "id": "522fb4a0",
   "metadata": {},
   "outputs": [
    {
     "name": "stdout",
     "output_type": "stream",
     "text": [
      "0.8\n"
     ]
    }
   ],
   "source": [
    "print(model.score(X, y))  # the ratio of the number of correct predictions to the number of observations"
   ]
  },
  {
   "cell_type": "code",
   "execution_count": 8,
   "id": "82634a84",
   "metadata": {},
   "outputs": [
    {
     "name": "stdout",
     "output_type": "stream",
     "text": [
      "[[2 2]\n",
      " [0 6]]\n"
     ]
    }
   ],
   "source": [
    "print(metrics.confusion_matrix(y, model.predict(X)))  # confusion matrix\n",
    "\n",
    "# True negatives in the upper-left position\n",
    "# False negatives in the lower-left position\n",
    "# False positives in the upper-right position\n",
    "# True positives in the lower-right position"
   ]
  },
  {
   "cell_type": "markdown",
   "id": "990c9c0d",
   "metadata": {},
   "source": [
    "Let's improve the model by setting different parameters. For example, let’s work with the regularization strength `C` equal to 10.0, instead of the default value of 1.0. \n",
    "\n"
   ]
  },
  {
   "cell_type": "code",
   "execution_count": 9,
   "id": "6fc7906e",
   "metadata": {},
   "outputs": [
    {
     "name": "stdout",
     "output_type": "stream",
     "text": [
      "[-3.81588578]\n",
      "[[0.93405685]]\n"
     ]
    }
   ],
   "source": [
    "X = np.arange(1,11).reshape(-1, 1)    # x has two dimensions\n",
    "y = np.array([0, 0, 0, 0, 1, 1, 1, 1, 1, 1])\n",
    "\n",
    "model = LogisticRegression(solver='liblinear', C=10)\n",
    "model.fit(X, y)\n",
    "\n",
    "b = model.intercept_\n",
    "w = model.coef_\n",
    "\n",
    "print(b)\n",
    "print(w)"
   ]
  },
  {
   "cell_type": "markdown",
   "id": "9a07d090",
   "metadata": {},
   "source": [
    "As you can see, the absolute values of the intercept $b_0$ and the coefficient $b_1$ are larger. This is the case because the larger value of `C` means weaker regularization, or weaker penalization related to high values of $b_0$ and $b_1$."
   ]
  },
  {
   "cell_type": "code",
   "execution_count": 10,
   "id": "8e17e5ab",
   "metadata": {},
   "outputs": [
    {
     "name": "stdout",
     "output_type": "stream",
     "text": [
      "decision boundary = 4.09\n"
     ]
    },
    {
     "data": {
      "image/png": "[encoded data removed]",
      "text/plain": [
       "<Figure size 432x288 with 1 Axes>"
      ]
     },
     "metadata": {
      "needs_background": "light"
     },
     "output_type": "display_data"
    }
   ],
   "source": [
    "plt.scatter(X, y, marker='x', s=70)\n",
    "plt.xticks(np.arange(0,11))\n",
    "plt.yticks([0,1])\n",
    "\n",
    "X_ = np.linspace(-5,10,100).reshape((-1,1))\n",
    "z = b + w * X_\n",
    "f = 1 / (1 + np.exp(-z))\n",
    "\n",
    "plt.plot(X_, f, 'r') # plot logistic regression line\n",
    "\n",
    "db = -b/w # decision boundary\n",
    "db = db.squeeze()\n",
    "print('decision boundary =', '%.2f' %db)\n",
    "\n",
    "plt.hlines(0.5, min(X_), db, linestyles='dashed', colors='k', )\n",
    "plt.vlines(db, 0, 1, colors='g')\n",
    "\n",
    "plt.text(-1, .55, 'y=0.5', fontsize=14)\n",
    "plt.text(db+.15, 0.2, 'x='+'{:.2f}'.format(db),\n",
    "         fontsize=14, rotation='vertical', c='g')\n",
    "\n",
    "plt.xlim([db-8, db+8])\n",
    "\n",
    "plt.show()"
   ]
  },
  {
   "cell_type": "markdown",
   "id": "6bc8d638",
   "metadata": {},
   "source": [
    "## Example 2\n",
    "\n",
    "Let's build the diabetes prediction model. Here, you are going to predict diabetes using the Logistic Regression Classifier. Let's first load the required Pima Indian Diabetes dataset using the pandas' read CSV function. You can download data from the this [link](https://www.kaggle.com/uciml/pima-indians-diabetes-database)."
   ]
  },
  {
   "cell_type": "code",
   "execution_count": 11,
   "id": "3151f0c1",
   "metadata": {},
   "outputs": [
    {
     "data": {
      "text/html": [
       "<div>\n",
       "<style scoped>\n",
       "    .dataframe tbody tr th:only-of-type {\n",
       "        vertical-align: middle;\n",
       "    }\n",
       "\n",
       "    .dataframe tbody tr th {\n",
       "        vertical-align: top;\n",
       "    }\n",
       "\n",
       "    .dataframe thead th {\n",
       "        text-align: right;\n",
       "    }\n",
       "</style>\n",
       "<table border=\"1\" class=\"dataframe\">\n",
       "  <thead>\n",
       "    <tr style=\"text-align: right;\">\n",
       "      <th></th>\n",
       "      <th>Pregnancies</th>\n",
       "      <th>Glucose</th>\n",
       "      <th>BloodPressure</th>\n",
       "      <th>SkinThickness</th>\n",
       "      <th>Insulin</th>\n",
       "      <th>BMI</th>\n",
       "      <th>DiabetesPedigreeFunction</th>\n",
       "      <th>Age</th>\n",
       "      <th>Outcome</th>\n",
       "    </tr>\n",
       "  </thead>\n",
       "  <tbody>\n",
       "    <tr>\n",
       "      <th>0</th>\n",
       "      <td>6</td>\n",
       "      <td>148</td>\n",
       "      <td>72</td>\n",
       "      <td>35</td>\n",
       "      <td>0</td>\n",
       "      <td>33.6</td>\n",
       "      <td>0.627</td>\n",
       "      <td>50</td>\n",
       "      <td>1</td>\n",
       "    </tr>\n",
       "    <tr>\n",
       "      <th>1</th>\n",
       "      <td>1</td>\n",
       "      <td>85</td>\n",
       "      <td>66</td>\n",
       "      <td>29</td>\n",
       "      <td>0</td>\n",
       "      <td>26.6</td>\n",
       "      <td>0.351</td>\n",
       "      <td>31</td>\n",
       "      <td>0</td>\n",
       "    </tr>\n",
       "    <tr>\n",
       "      <th>2</th>\n",
       "      <td>8</td>\n",
       "      <td>183</td>\n",
       "      <td>64</td>\n",
       "      <td>0</td>\n",
       "      <td>0</td>\n",
       "      <td>23.3</td>\n",
       "      <td>0.672</td>\n",
       "      <td>32</td>\n",
       "      <td>1</td>\n",
       "    </tr>\n",
       "    <tr>\n",
       "      <th>3</th>\n",
       "      <td>1</td>\n",
       "      <td>89</td>\n",
       "      <td>66</td>\n",
       "      <td>23</td>\n",
       "      <td>94</td>\n",
       "      <td>28.1</td>\n",
       "      <td>0.167</td>\n",
       "      <td>21</td>\n",
       "      <td>0</td>\n",
       "    </tr>\n",
       "    <tr>\n",
       "      <th>4</th>\n",
       "      <td>0</td>\n",
       "      <td>137</td>\n",
       "      <td>40</td>\n",
       "      <td>35</td>\n",
       "      <td>168</td>\n",
       "      <td>43.1</td>\n",
       "      <td>2.288</td>\n",
       "      <td>33</td>\n",
       "      <td>1</td>\n",
       "    </tr>\n",
       "    <tr>\n",
       "      <th>...</th>\n",
       "      <td>...</td>\n",
       "      <td>...</td>\n",
       "      <td>...</td>\n",
       "      <td>...</td>\n",
       "      <td>...</td>\n",
       "      <td>...</td>\n",
       "      <td>...</td>\n",
       "      <td>...</td>\n",
       "      <td>...</td>\n",
       "    </tr>\n",
       "    <tr>\n",
       "      <th>763</th>\n",
       "      <td>10</td>\n",
       "      <td>101</td>\n",
       "      <td>76</td>\n",
       "      <td>48</td>\n",
       "      <td>180</td>\n",
       "      <td>32.9</td>\n",
       "      <td>0.171</td>\n",
       "      <td>63</td>\n",
       "      <td>0</td>\n",
       "    </tr>\n",
       "    <tr>\n",
       "      <th>764</th>\n",
       "      <td>2</td>\n",
       "      <td>122</td>\n",
       "      <td>70</td>\n",
       "      <td>27</td>\n",
       "      <td>0</td>\n",
       "      <td>36.8</td>\n",
       "      <td>0.340</td>\n",
       "      <td>27</td>\n",
       "      <td>0</td>\n",
       "    </tr>\n",
       "    <tr>\n",
       "      <th>765</th>\n",
       "      <td>5</td>\n",
       "      <td>121</td>\n",
       "      <td>72</td>\n",
       "      <td>23</td>\n",
       "      <td>112</td>\n",
       "      <td>26.2</td>\n",
       "      <td>0.245</td>\n",
       "      <td>30</td>\n",
       "      <td>0</td>\n",
       "    </tr>\n",
       "    <tr>\n",
       "      <th>766</th>\n",
       "      <td>1</td>\n",
       "      <td>126</td>\n",
       "      <td>60</td>\n",
       "      <td>0</td>\n",
       "      <td>0</td>\n",
       "      <td>30.1</td>\n",
       "      <td>0.349</td>\n",
       "      <td>47</td>\n",
       "      <td>1</td>\n",
       "    </tr>\n",
       "    <tr>\n",
       "      <th>767</th>\n",
       "      <td>1</td>\n",
       "      <td>93</td>\n",
       "      <td>70</td>\n",
       "      <td>31</td>\n",
       "      <td>0</td>\n",
       "      <td>30.4</td>\n",
       "      <td>0.315</td>\n",
       "      <td>23</td>\n",
       "      <td>0</td>\n",
       "    </tr>\n",
       "  </tbody>\n",
       "</table>\n",
       "<p>768 rows × 9 columns</p>\n",
       "</div>"
      ],
      "text/plain": [
       "     Pregnancies  Glucose  BloodPressure  SkinThickness  Insulin   BMI  \\\n",
       "0              6      148             72             35        0  33.6   \n",
       "1              1       85             66             29        0  26.6   \n",
       "2              8      183             64              0        0  23.3   \n",
       "3              1       89             66             23       94  28.1   \n",
       "4              0      137             40             35      168  43.1   \n",
       "..           ...      ...            ...            ...      ...   ...   \n",
       "763           10      101             76             48      180  32.9   \n",
       "764            2      122             70             27        0  36.8   \n",
       "765            5      121             72             23      112  26.2   \n",
       "766            1      126             60              0        0  30.1   \n",
       "767            1       93             70             31        0  30.4   \n",
       "\n",
       "     DiabetesPedigreeFunction  Age  Outcome  \n",
       "0                       0.627   50        1  \n",
       "1                       0.351   31        0  \n",
       "2                       0.672   32        1  \n",
       "3                       0.167   21        0  \n",
       "4                       2.288   33        1  \n",
       "..                        ...  ...      ...  \n",
       "763                     0.171   63        0  \n",
       "764                     0.340   27        0  \n",
       "765                     0.245   30        0  \n",
       "766                     0.349   47        1  \n",
       "767                     0.315   23        0  \n",
       "\n",
       "[768 rows x 9 columns]"
      ]
     },
     "execution_count": 11,
     "metadata": {},
     "output_type": "execute_result"
    }
   ],
   "source": [
    "pima = pd.read_csv('diabetes.csv') #, header=None, names=col_names)\n",
    "pima"
   ]
  },
  {
   "cell_type": "code",
   "execution_count": 12,
   "id": "cc9e79ad",
   "metadata": {},
   "outputs": [],
   "source": [
    "#split dataset in features and target variable\n",
    "feature_cols = ['Pregnancies', 'Glucose', 'BloodPressure',\n",
    "                'Insulin', 'BMI', 'DiabetesPedigreeFunction', 'Age']\n",
    "\n",
    "X = pima[feature_cols] # Features\n",
    "y = pima.Outcome       # Target variable"
   ]
  },
  {
   "cell_type": "code",
   "execution_count": 13,
   "id": "e19cca55",
   "metadata": {},
   "outputs": [],
   "source": [
    "# split X and y into training and testing sets\n",
    "X_train, X_test, y_train, y_test = train_test_split(X, y, test_size=0.25)"
   ]
  },
  {
   "cell_type": "code",
   "execution_count": 14,
   "id": "e42cb1d2",
   "metadata": {},
   "outputs": [],
   "source": [
    "# instantiate the model (using the default parameters)\n",
    "logreg = LogisticRegression(solver='liblinear')\n",
    "\n",
    "# fit the model with data\n",
    "logreg.fit(X_train, y_train)\n",
    "\n",
    "y_pred = logreg.predict(X_test) # perediction on test data"
   ]
  },
  {
   "cell_type": "code",
   "execution_count": 15,
   "id": "19832d3b",
   "metadata": {},
   "outputs": [
    {
     "name": "stdout",
     "output_type": "stream",
     "text": [
      "score = 0.7708\n",
      "[[114  11]\n",
      " [ 30  37]]\n"
     ]
    }
   ],
   "source": [
    "# the ratio of the number of correct predictions to the number of observations\n",
    "print('score =', '%.4f' %logreg.score(X_train, y_train))\n",
    "\n",
    "print(metrics.confusion_matrix(y_test, y_pred))"
   ]
  },
  {
   "cell_type": "code",
   "execution_count": 16,
   "id": "72865759",
   "metadata": {},
   "outputs": [
    {
     "name": "stdout",
     "output_type": "stream",
     "text": [
      "class 0 in test data = 125\n",
      "class 1 in test data = 67\n"
     ]
    }
   ],
   "source": [
    "# the number of samples in test data with class 0\n",
    "print('class 0 in test data =', sum(y_test==0))\n",
    "\n",
    "# the number of samples in test data with class 1\n",
    "print('class 1 in test data =', sum(y_test==1))"
   ]
  }
 ],
 "metadata": {
  "kernelspec": {
   "display_name": "Python 3",
   "language": "python",
   "name": "python3"
  },
  "language_info": {
   "codemirror_mode": {
    "name": "ipython",
    "version": 3
   },
   "file_extension": ".py",
   "mimetype": "text/x-python",
   "name": "python",
   "nbconvert_exporter": "python",
   "pygments_lexer": "ipython3",
   "version": "3.8.8"
  }
 },
 "nbformat": 4,
 "nbformat_minor": 5
}
